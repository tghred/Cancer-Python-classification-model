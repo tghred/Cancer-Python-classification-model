{
 "cells": [
  {
   "cell_type": "markdown",
   "metadata": {},
   "source": [
    "# ----------------------------------------\n",
    "# | Claasification for Chemo  |\n",
    "# ----------------------------------------\n"
   ]
  },
  {
   "cell_type": "markdown",
   "metadata": {},
   "source": [
    "## Importing libraries"
   ]
  },
  {
   "cell_type": "code",
   "execution_count": 1,
   "metadata": {},
   "outputs": [],
   "source": [
    "import pandas as pd\n",
    "import numpy as np\n",
    "import matplotlib.pyplot as plt\n",
    "import seaborn as sns\n",
    "%matplotlib inline"
   ]
  },
  {
   "cell_type": "code",
   "execution_count": 18,
   "metadata": {},
   "outputs": [
    {
     "data": {
      "text/html": [
       "<div>\n",
       "<style scoped>\n",
       "    .dataframe tbody tr th:only-of-type {\n",
       "        vertical-align: middle;\n",
       "    }\n",
       "\n",
       "    .dataframe tbody tr th {\n",
       "        vertical-align: top;\n",
       "    }\n",
       "\n",
       "    .dataframe thead th {\n",
       "        text-align: right;\n",
       "    }\n",
       "</style>\n",
       "<table border=\"1\" class=\"dataframe\">\n",
       "  <thead>\n",
       "    <tr style=\"text-align: right;\">\n",
       "      <th></th>\n",
       "      <th>ER+</th>\n",
       "      <th>PR+</th>\n",
       "      <th>MRI1</th>\n",
       "      <th>LD1</th>\n",
       "      <th>NO of node</th>\n",
       "      <th>node coded</th>\n",
       "      <th>tomur location</th>\n",
       "      <th>tumor stage</th>\n",
       "      <th>node</th>\n",
       "      <th>M</th>\n",
       "      <th>stage</th>\n",
       "      <th>hermonal</th>\n",
       "      <th>chemo</th>\n",
       "      <th>surgery</th>\n",
       "      <th>ln</th>\n",
       "      <th>censor</th>\n",
       "    </tr>\n",
       "  </thead>\n",
       "  <tbody>\n",
       "    <tr>\n",
       "      <th>0</th>\n",
       "      <td>0</td>\n",
       "      <td>1</td>\n",
       "      <td>yes</td>\n",
       "      <td>4.00</td>\n",
       "      <td>5</td>\n",
       "      <td>Positive</td>\n",
       "      <td>left_low</td>\n",
       "      <td>T2</td>\n",
       "      <td>N3</td>\n",
       "      <td>M0</td>\n",
       "      <td>Stage IIIC</td>\n",
       "      <td>0</td>\n",
       "      <td>1</td>\n",
       "      <td>0</td>\n",
       "      <td>0</td>\n",
       "      <td>0</td>\n",
       "    </tr>\n",
       "    <tr>\n",
       "      <th>1</th>\n",
       "      <td>1</td>\n",
       "      <td>1</td>\n",
       "      <td>yes</td>\n",
       "      <td>7.95</td>\n",
       "      <td>0</td>\n",
       "      <td>Negative</td>\n",
       "      <td>right_up</td>\n",
       "      <td>T3</td>\n",
       "      <td>N0</td>\n",
       "      <td>M0</td>\n",
       "      <td>Stage IIA</td>\n",
       "      <td>1</td>\n",
       "      <td>0</td>\n",
       "      <td>1</td>\n",
       "      <td>1</td>\n",
       "      <td>1</td>\n",
       "    </tr>\n",
       "    <tr>\n",
       "      <th>2</th>\n",
       "      <td>1</td>\n",
       "      <td>1</td>\n",
       "      <td>yes</td>\n",
       "      <td>1.10</td>\n",
       "      <td>1</td>\n",
       "      <td>Positive</td>\n",
       "      <td>left_low</td>\n",
       "      <td>T1</td>\n",
       "      <td>N1</td>\n",
       "      <td>M0</td>\n",
       "      <td>Stage IIIB</td>\n",
       "      <td>1</td>\n",
       "      <td>0</td>\n",
       "      <td>0</td>\n",
       "      <td>0</td>\n",
       "      <td>0</td>\n",
       "    </tr>\n",
       "    <tr>\n",
       "      <th>3</th>\n",
       "      <td>0</td>\n",
       "      <td>0</td>\n",
       "      <td>yes</td>\n",
       "      <td>6.23</td>\n",
       "      <td>0</td>\n",
       "      <td>Negative</td>\n",
       "      <td>left_up</td>\n",
       "      <td>T3</td>\n",
       "      <td>N0</td>\n",
       "      <td>M0</td>\n",
       "      <td>Stage IIB</td>\n",
       "      <td>0</td>\n",
       "      <td>1</td>\n",
       "      <td>0</td>\n",
       "      <td>0</td>\n",
       "      <td>0</td>\n",
       "    </tr>\n",
       "    <tr>\n",
       "      <th>4</th>\n",
       "      <td>1</td>\n",
       "      <td>1</td>\n",
       "      <td>yes</td>\n",
       "      <td>7.70</td>\n",
       "      <td>6</td>\n",
       "      <td>Positive</td>\n",
       "      <td>right_low</td>\n",
       "      <td>T3</td>\n",
       "      <td>N3</td>\n",
       "      <td>M0</td>\n",
       "      <td>Stage IIIC</td>\n",
       "      <td>1</td>\n",
       "      <td>0</td>\n",
       "      <td>0</td>\n",
       "      <td>0</td>\n",
       "      <td>0</td>\n",
       "    </tr>\n",
       "  </tbody>\n",
       "</table>\n",
       "</div>"
      ],
      "text/plain": [
       "   ER+  PR+ MRI1   LD1  NO of node node coded tomur location tumor stage  \\\n",
       "0    0    1  yes  4.00           5   Positive       left_low          T2   \n",
       "1    1    1  yes  7.95           0   Negative       right_up          T3   \n",
       "2    1    1  yes  1.10           1   Positive       left_low          T1   \n",
       "3    0    0  yes  6.23           0   Negative        left_up          T3   \n",
       "4    1    1  yes  7.70           6   Positive      right_low          T3   \n",
       "\n",
       "  node    M       stage  hermonal  chemo  surgery  ln  censor  \n",
       "0    N3  M0  Stage IIIC         0      1        0   0       0  \n",
       "1    N0  M0   Stage IIA         1      0        1   1       1  \n",
       "2    N1  M0  Stage IIIB         1      0        0   0       0  \n",
       "3    N0  M0   Stage IIB         0      1        0   0       0  \n",
       "4    N3  M0  Stage IIIC         1      0        0   0       0  "
      ]
     },
     "execution_count": 18,
     "metadata": {},
     "output_type": "execute_result"
    }
   ],
   "source": [
    "df= pd.read_csv('col.csv')\n",
    "df.head()"
   ]
  },
  {
   "cell_type": "code",
   "execution_count": 19,
   "metadata": {},
   "outputs": [
    {
     "data": {
      "text/plain": [
       "<matplotlib.axes._subplots.AxesSubplot at 0x13dd17cd0f0>"
      ]
     },
     "execution_count": 19,
     "metadata": {},
     "output_type": "execute_result"
    },
    {
     "data": {
      "image/png": "[encoded data removed]",
      "text/plain": [
       "<Figure size 432x288 with 1 Axes>"
      ]
     },
     "metadata": {
      "needs_background": "light"
     },
     "output_type": "display_data"
    }
   ],
   "source": [
    "sns.countplot('chemo', data=df)"
   ]
  },
  {
   "cell_type": "markdown",
   "metadata": {},
   "source": [
    "## *Frist: Data prepration :"
   ]
  },
  {
   "cell_type": "code",
   "execution_count": 3,
   "metadata": {},
   "outputs": [],
   "source": [
    "replace_map = {'stage': {'IA': 1, 'IB': 2, 'IIA': 3, 'IIB': 4,\n",
    "                                  'IIC': 5, 'IIIA': 6, 'IIIB': 7 , 'IIIC': 8 , 'IV': 9}}\n",
    "labels = df['stage'].astype('category').cat.categories.tolist()\n",
    "replace_map_comp = {'stage' : {k: v for k,v in zip(labels,list(range(1,len(labels)+1)))}}\n",
    "\n",
    "df_copy = df.copy()\n",
    "df_copy.replace(replace_map_comp, inplace=True)\n",
    "df_lc = df_copy.copy()\n",
    "df_lc['stage'] = df_lc['stage'].astype('category')"
   ]
  },
  {
   "cell_type": "code",
   "execution_count": 4,
   "metadata": {},
   "outputs": [],
   "source": [
    "replace_map = {'tumor stage': {'T1': 1, 'T2': 2, 'T3': 3, 'T4': 4}}\n",
    "labels = df['tumor stage'].astype('category').cat.categories.tolist()\n",
    "\n",
    "replace_map_comp = {'tumor stage' : {k: v for k,v in zip(labels,list(range(1,len(labels)+1)))}}\n",
    "df_lc2 = df_lc.copy()\n",
    "df_lc2.replace(replace_map_comp, inplace=True)\n",
    "df_lc3 = df_lc2.copy()\n",
    "df_lc3['tumor stage'] = df_lc3['tumor stage'].astype('category')"
   ]
  },
  {
   "cell_type": "code",
   "execution_count": 5,
   "metadata": {},
   "outputs": [],
   "source": [
    "replace_map = {'tomur location': {'left_low': 1, 'right_up': 2, 'left_up': 3, 'right_low': 4,\n",
    "                                  'central': 5}}\n",
    "labels = df_lc3['tomur location'].astype('category').cat.categories.tolist()\n",
    "replace_map_comp = {'tomur location' : {k: v for k,v in zip(labels,list(range(1,len(labels)+1)))}}\n",
    "df_lc4 = df_lc3.copy()\n",
    "df_lc4.replace(replace_map_comp, inplace=True)\n",
    "df_lc5 = df_lc4.copy()\n",
    "df_lc5['tomur location'] = df_lc5['tomur location'].astype('category')"
   ]
  },
  {
   "cell_type": "code",
   "execution_count": 6,
   "metadata": {},
   "outputs": [],
   "source": [
    "replace_map = {'node coded': {'Negative': 0, 'Positive': 1}}\n",
    "labels = df_lc5['node coded'].astype('category').cat.categories.tolist()\n",
    "replace_map_comp = {'node coded' : {k: v for k,v in zip(labels,list(range(1,len(labels)+1)))}}\n",
    "df_lc6 = df_lc5.copy()\n",
    "df_lc6.replace(replace_map_comp, inplace=True)\n",
    "df_lc7 = df_lc6.copy()\n",
    "df_lc7['node coded'] = df_lc7['node coded'].astype('category')\n"
   ]
  },
  {
   "cell_type": "code",
   "execution_count": 7,
   "metadata": {},
   "outputs": [],
   "source": [
    "replace_map = {'MRI1': {'yes': 0, 'no': 1}}\n",
    "labels = df_lc7['MRI1'].astype('category').cat.categories.tolist()\n",
    "replace_map_comp = {'MRI1' : {k: v for k,v in zip(labels,list(range(1,len(labels)+1)))}}\n",
    "df_lc8 = df_lc7.copy()\n",
    "df_lc8.replace(replace_map_comp, inplace=True)\n",
    "df_lc9 = df_lc8.copy()\n",
    "df_lc9['MRI1'] = df_lc9['MRI1'].astype('category')\n"
   ]
  },
  {
   "cell_type": "code",
   "execution_count": 8,
   "metadata": {},
   "outputs": [],
   "source": [
    "replace_map = {'node ': {'N0': 1, 'N1': 2, 'N2': 3, 'T3': 4}}\n",
    "labels = df['node '].astype('category').cat.categories.tolist()\n",
    "replace_map_comp = {'node ' : {k: v for k,v in zip(labels,list(range(1,len(labels)+1)))}}\n",
    "df_lc10 = df_lc9.copy()\n",
    "df_lc10.replace(replace_map_comp, inplace=True)\n",
    "df_lc11 = df_lc10.copy()\n",
    "df_lc11['node '] = df_lc11['node '].astype('category')\n"
   ]
  },
  {
   "cell_type": "code",
   "execution_count": 9,
   "metadata": {},
   "outputs": [],
   "source": [
    "replace_map = {'M': {'M0': 1, 'M1': 2}}\n",
    "labels = df_lc11['M'].astype('category').cat.categories.tolist()\n",
    "replace_map_comp = {'M' : {k: v for k,v in zip(labels,list(range(1,len(labels)+1)))}}\n",
    "df_lc12 = df_lc11.copy()\n",
    "df_lc12.replace(replace_map_comp, inplace=True)\n",
    "df_lc13 = df_lc12.copy()\n",
    "df_lc13['M'] = df_lc13['M'].astype('category')"
   ]
  },
  {
   "cell_type": "code",
   "execution_count": 10,
   "metadata": {},
   "outputs": [
    {
     "name": "stdout",
     "output_type": "stream",
     "text": [
      "ER+               category\n",
      "PR+               category\n",
      "MRI1              category\n",
      "LD1                float64\n",
      "NO of node        category\n",
      "node coded        category\n",
      "tomur location    category\n",
      "tumor stage       category\n",
      "node              category\n",
      "M                 category\n",
      "stage             category\n",
      "hermonal          category\n",
      "chemo             category\n",
      "surgery           category\n",
      "ln                category\n",
      "censor            category\n",
      "dtype: object\n"
     ]
    }
   ],
   "source": [
    "df_lc13['hermonal'] = df_lc13['hermonal'].astype('category')\n",
    "\n",
    "df_lc13['chemo'] = df_lc13['chemo'].astype('category')\n",
    "\n",
    "df_lc13['surgery'] = df_lc13['surgery'].astype('category')\n",
    "\n",
    "df_lc13['ln'] = df_lc13['ln'].astype('category')\n",
    "\n",
    "df_lc13['censor'] = df_lc13['censor'].astype('category')\n",
    "\n",
    "df_lc13['NO of node'] = df_lc13['NO of node'].astype('category')\n",
    "\n",
    "df_lc13['ER+'] = df_lc13['ER+'].astype('category')\n",
    "\n",
    "df_lc13['PR+'] = df_lc13['PR+'].astype('category')\n",
    "print(df_lc13.dtypes)"
   ]
  },
  {
   "cell_type": "markdown",
   "metadata": {},
   "source": [
    "## **Second:  Preprocessing\n",
    "## (with StandardScale)"
   ]
  },
  {
   "cell_type": "code",
   "execution_count": 11,
   "metadata": {},
   "outputs": [],
   "source": [
    "from sklearn.preprocessing import StandardScaler\n",
    "df_drop_target=df_lc13.drop('chemo',axis=1)\n",
    "scaler =StandardScaler()\n",
    "scaler.fit(df_drop_target)\n",
    "scaled_features= scaler.transform(df_drop_target)\n",
    "df_feat=pd.DataFrame(scaled_features,columns=df_drop_target.columns)\n"
   ]
  },
  {
   "cell_type": "markdown",
   "metadata": {},
   "source": [
    "# 1- Logistic regression\n",
    "## ***Third : Train Test split"
   ]
  },
  {
   "cell_type": "code",
   "execution_count": 12,
   "metadata": {},
   "outputs": [],
   "source": [
    "x= df_feat\n",
    "y=df_lc13['chemo']\n",
    "from sklearn.model_selection import train_test_split\n",
    "x_train, x_test, y_train, y_test = train_test_split(x, y, test_size=0.33, random_state=42)"
   ]
  },
  {
   "cell_type": "code",
   "execution_count": 13,
   "metadata": {},
   "outputs": [],
   "source": [
    "from sklearn.linear_model import LogisticRegression\n",
    "logModel= LogisticRegression()\n",
    "logModel.fit(x_train,y_train)\n",
    "predictions= logModel.predict(x_test)"
   ]
  },
  {
   "cell_type": "markdown",
   "metadata": {},
   "source": [
    "# Evaluation "
   ]
  },
  {
   "cell_type": "code",
   "execution_count": 14,
   "metadata": {},
   "outputs": [
    {
     "name": "stdout",
     "output_type": "stream",
     "text": [
      "classification_report: \n",
      "              precision    recall  f1-score   support\n",
      "\n",
      "           0       1.00      1.00      1.00       888\n",
      "           1       1.00      1.00      1.00      2511\n",
      "\n",
      "    accuracy                           1.00      3399\n",
      "   macro avg       1.00      1.00      1.00      3399\n",
      "weighted avg       1.00      1.00      1.00      3399\n",
      "\n",
      "confusion_matrix: \n"
     ]
    },
    {
     "data": {
      "text/plain": [
       "array([[ 888,    0],\n",
       "       [   0, 2511]], dtype=int64)"
      ]
     },
     "execution_count": 14,
     "metadata": {},
     "output_type": "execute_result"
    }
   ],
   "source": [
    "from sklearn.metrics import classification_report\n",
    "print('classification_report: ')\n",
    "print(classification_report(y_test,predictions))\n",
    "\n",
    "from sklearn.metrics import confusion_matrix\n",
    "print('confusion_matrix: ')\n",
    "confusion_matrix(y_test,predictions)"
   ]
  },
  {
   "cell_type": "markdown",
   "metadata": {},
   "source": [
    "# 3-Decision Tree \n",
    "## Train one Tree:"
   ]
  },
  {
   "cell_type": "code",
   "execution_count": 15,
   "metadata": {},
   "outputs": [],
   "source": [
    "x= df_feat\n",
    "y=df_lc13['chemo']\n",
    "from sklearn.model_selection import train_test_split\n",
    "x_train, x_test, y_train, y_test = train_test_split(x, y, test_size=0.33, random_state=80)"
   ]
  },
  {
   "cell_type": "code",
   "execution_count": 16,
   "metadata": {},
   "outputs": [],
   "source": [
    "from sklearn.tree import DecisionTreeClassifier\n",
    "dtree= DecisionTreeClassifier()\n",
    "dtree.fit(x_train,y_train)\n",
    "predictions3=dtree.predict(x_test)"
   ]
  },
  {
   "cell_type": "markdown",
   "metadata": {},
   "source": [
    "## Evaluation \n"
   ]
  },
  {
   "cell_type": "code",
   "execution_count": 17,
   "metadata": {},
   "outputs": [
    {
     "name": "stdout",
     "output_type": "stream",
     "text": [
      "              precision    recall  f1-score   support\n",
      "\n",
      "           0       1.00      1.00      1.00       838\n",
      "           1       1.00      1.00      1.00      2561\n",
      "\n",
      "    accuracy                           1.00      3399\n",
      "   macro avg       1.00      1.00      1.00      3399\n",
      "weighted avg       1.00      1.00      1.00      3399\n",
      "\n",
      "\n",
      "\n"
     ]
    },
    {
     "data": {
      "text/plain": [
       "array([[ 196,  642],\n",
       "       [ 692, 1869]], dtype=int64)"
      ]
     },
     "execution_count": 17,
     "metadata": {},
     "output_type": "execute_result"
    }
   ],
   "source": [
    "from sklearn.metrics import classification_report\n",
    "print(classification_report(y_test,predictions3))\n",
    "print('\\n')\n",
    "from sklearn.metrics import confusion_matrix\n",
    "confusion_matrix(y_test,predictions)"
   ]
  },
  {
   "cell_type": "markdown",
   "metadata": {},
   "source": [
    "## Train Random Forest"
   ]
  },
  {
   "cell_type": "code",
   "execution_count": null,
   "metadata": {},
   "outputs": [],
   "source": []
  }
 ],
 "metadata": {
  "kernelspec": {
   "display_name": "Python 3",
   "language": "python",
   "name": "python3"
  },
  "language_info": {
   "codemirror_mode": {
    "name": "ipython",
    "version": 3
   },
   "file_extension": ".py",
   "mimetype": "text/x-python",
   "name": "python",
   "nbconvert_exporter": "python",
   "pygments_lexer": "ipython3",
   "version": "3.7.7"
  }
 },
 "nbformat": 4,
 "nbformat_minor": 2
}
