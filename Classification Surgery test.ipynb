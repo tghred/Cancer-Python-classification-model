{
 "cells": [
  {
   "cell_type": "markdown",
   "metadata": {},
   "source": [
    "# ---------------------------------------------------------------------\n",
    "# |  Classification methods for Surgery prediction |\n",
    "# ---------------------------------------------------------------------\n",
    "\n",
    "### 1- Logistic regression\n",
    "### 2- Descision tree & Random forest\n",
    "### 3- KNN \n"
   ]
  },
  {
   "cell_type": "markdown",
   "metadata": {},
   "source": [
    "## Importing and prepration od data"
   ]
  },
  {
   "cell_type": "code",
   "execution_count": 2,
   "metadata": {},
   "outputs": [],
   "source": [
    "import pandas as pd\n",
    "import numpy as np\n",
    "import matplotlib.pyplot as plt\n",
    "import seaborn as sns\n",
    "%matplotlib inline"
   ]
  },
  {
   "cell_type": "markdown",
   "metadata": {},
   "source": [
    "# Classification\n",
    "# ============"
   ]
  },
  {
   "cell_type": "code",
   "execution_count": 3,
   "metadata": {},
   "outputs": [],
   "source": [
    "df_lc13=pd.read_csv('numric2.csv')\n",
    "from sklearn.preprocessing import StandardScaler"
   ]
  },
  {
   "cell_type": "code",
   "execution_count": 4,
   "metadata": {},
   "outputs": [],
   "source": [
    "df_drop_target=df_lc13.drop('surgery',axis=1)\n",
    "scaler =StandardScaler()\n",
    "scaler.fit(df_drop_target)\n",
    "scaled_features= scaler.transform(df_drop_target)"
   ]
  },
  {
   "cell_type": "code",
   "execution_count": 5,
   "metadata": {},
   "outputs": [],
   "source": [
    "df_feat=pd.DataFrame(scaled_features,columns=df_drop_target.columns)"
   ]
  },
  {
   "cell_type": "code",
   "execution_count": 6,
   "metadata": {},
   "outputs": [
    {
     "data": {
      "text/html": [
       "<div>\n",
       "<style scoped>\n",
       "    .dataframe tbody tr th:only-of-type {\n",
       "        vertical-align: middle;\n",
       "    }\n",
       "\n",
       "    .dataframe tbody tr th {\n",
       "        vertical-align: top;\n",
       "    }\n",
       "\n",
       "    .dataframe thead th {\n",
       "        text-align: right;\n",
       "    }\n",
       "</style>\n",
       "<table border=\"1\" class=\"dataframe\">\n",
       "  <thead>\n",
       "    <tr style=\"text-align: right;\">\n",
       "      <th></th>\n",
       "      <th>Unnamed: 0</th>\n",
       "      <th>ER+</th>\n",
       "      <th>PR+</th>\n",
       "      <th>MRI1</th>\n",
       "      <th>LD1</th>\n",
       "      <th>NO of node</th>\n",
       "      <th>node coded</th>\n",
       "      <th>tomur location</th>\n",
       "      <th>tumor stage</th>\n",
       "      <th>node</th>\n",
       "      <th>M</th>\n",
       "      <th>stage</th>\n",
       "      <th>hermonal</th>\n",
       "      <th>chemo</th>\n",
       "      <th>ln</th>\n",
       "      <th>censor</th>\n",
       "    </tr>\n",
       "  </thead>\n",
       "  <tbody>\n",
       "    <tr>\n",
       "      <th>0</th>\n",
       "      <td>-1.731883</td>\n",
       "      <td>-1.011916</td>\n",
       "      <td>0.998254</td>\n",
       "      <td>0.0</td>\n",
       "      <td>-0.614748</td>\n",
       "      <td>1.928012</td>\n",
       "      <td>2.199773</td>\n",
       "      <td>-0.595194</td>\n",
       "      <td>-0.507760</td>\n",
       "      <td>2.755453</td>\n",
       "      <td>-0.304313</td>\n",
       "      <td>1.720958</td>\n",
       "      <td>-0.582582</td>\n",
       "      <td>0.582582</td>\n",
       "      <td>-0.495193</td>\n",
       "      <td>-0.546536</td>\n",
       "    </tr>\n",
       "    <tr>\n",
       "      <th>1</th>\n",
       "      <td>-1.731546</td>\n",
       "      <td>0.988225</td>\n",
       "      <td>0.998254</td>\n",
       "      <td>0.0</td>\n",
       "      <td>0.514812</td>\n",
       "      <td>-0.369949</td>\n",
       "      <td>-0.454592</td>\n",
       "      <td>1.957409</td>\n",
       "      <td>0.568578</td>\n",
       "      <td>-0.425341</td>\n",
       "      <td>-0.304313</td>\n",
       "      <td>-0.481150</td>\n",
       "      <td>1.716496</td>\n",
       "      <td>-1.716496</td>\n",
       "      <td>0.587023</td>\n",
       "      <td>1.829707</td>\n",
       "    </tr>\n",
       "    <tr>\n",
       "      <th>2</th>\n",
       "      <td>-1.731210</td>\n",
       "      <td>0.988225</td>\n",
       "      <td>0.998254</td>\n",
       "      <td>0.0</td>\n",
       "      <td>-1.444045</td>\n",
       "      <td>0.089643</td>\n",
       "      <td>2.199773</td>\n",
       "      <td>-0.595194</td>\n",
       "      <td>-1.584098</td>\n",
       "      <td>0.634924</td>\n",
       "      <td>-0.304313</td>\n",
       "      <td>1.170431</td>\n",
       "      <td>1.716496</td>\n",
       "      <td>-1.716496</td>\n",
       "      <td>-0.495193</td>\n",
       "      <td>-0.546536</td>\n",
       "    </tr>\n",
       "    <tr>\n",
       "      <th>3</th>\n",
       "      <td>-1.730874</td>\n",
       "      <td>-1.011916</td>\n",
       "      <td>-1.001749</td>\n",
       "      <td>0.0</td>\n",
       "      <td>0.022953</td>\n",
       "      <td>-0.369949</td>\n",
       "      <td>-0.454592</td>\n",
       "      <td>0.255673</td>\n",
       "      <td>0.568578</td>\n",
       "      <td>-0.425341</td>\n",
       "      <td>-0.304313</td>\n",
       "      <td>0.069377</td>\n",
       "      <td>-0.582582</td>\n",
       "      <td>0.582582</td>\n",
       "      <td>-0.495193</td>\n",
       "      <td>-0.546536</td>\n",
       "    </tr>\n",
       "    <tr>\n",
       "      <th>4</th>\n",
       "      <td>-1.730537</td>\n",
       "      <td>0.988225</td>\n",
       "      <td>0.998254</td>\n",
       "      <td>0.0</td>\n",
       "      <td>0.443321</td>\n",
       "      <td>2.387604</td>\n",
       "      <td>2.199773</td>\n",
       "      <td>1.106541</td>\n",
       "      <td>0.568578</td>\n",
       "      <td>2.755453</td>\n",
       "      <td>-0.304313</td>\n",
       "      <td>1.720958</td>\n",
       "      <td>1.716496</td>\n",
       "      <td>-1.716496</td>\n",
       "      <td>-0.495193</td>\n",
       "      <td>-0.546536</td>\n",
       "    </tr>\n",
       "    <tr>\n",
       "      <th>...</th>\n",
       "      <td>...</td>\n",
       "      <td>...</td>\n",
       "      <td>...</td>\n",
       "      <td>...</td>\n",
       "      <td>...</td>\n",
       "      <td>...</td>\n",
       "      <td>...</td>\n",
       "      <td>...</td>\n",
       "      <td>...</td>\n",
       "      <td>...</td>\n",
       "      <td>...</td>\n",
       "      <td>...</td>\n",
       "      <td>...</td>\n",
       "      <td>...</td>\n",
       "      <td>...</td>\n",
       "      <td>...</td>\n",
       "    </tr>\n",
       "    <tr>\n",
       "      <th>10295</th>\n",
       "      <td>1.730537</td>\n",
       "      <td>0.988225</td>\n",
       "      <td>0.998254</td>\n",
       "      <td>0.0</td>\n",
       "      <td>-0.966484</td>\n",
       "      <td>1.008827</td>\n",
       "      <td>2.199773</td>\n",
       "      <td>0.255673</td>\n",
       "      <td>-0.507760</td>\n",
       "      <td>1.695188</td>\n",
       "      <td>3.286091</td>\n",
       "      <td>2.271485</td>\n",
       "      <td>1.716496</td>\n",
       "      <td>-1.716496</td>\n",
       "      <td>-0.495193</td>\n",
       "      <td>-0.546536</td>\n",
       "    </tr>\n",
       "    <tr>\n",
       "      <th>10296</th>\n",
       "      <td>1.730874</td>\n",
       "      <td>0.988225</td>\n",
       "      <td>0.998254</td>\n",
       "      <td>0.0</td>\n",
       "      <td>1.032407</td>\n",
       "      <td>-0.369949</td>\n",
       "      <td>-0.454592</td>\n",
       "      <td>0.255673</td>\n",
       "      <td>0.568578</td>\n",
       "      <td>-0.425341</td>\n",
       "      <td>-0.304313</td>\n",
       "      <td>0.069377</td>\n",
       "      <td>1.716496</td>\n",
       "      <td>-1.716496</td>\n",
       "      <td>2.751456</td>\n",
       "      <td>1.829707</td>\n",
       "    </tr>\n",
       "    <tr>\n",
       "      <th>10297</th>\n",
       "      <td>1.731210</td>\n",
       "      <td>-1.011916</td>\n",
       "      <td>0.998254</td>\n",
       "      <td>0.0</td>\n",
       "      <td>0.660654</td>\n",
       "      <td>-0.369949</td>\n",
       "      <td>-0.454592</td>\n",
       "      <td>-1.446062</td>\n",
       "      <td>0.568578</td>\n",
       "      <td>-0.425341</td>\n",
       "      <td>-0.304313</td>\n",
       "      <td>-0.481150</td>\n",
       "      <td>-0.582582</td>\n",
       "      <td>0.582582</td>\n",
       "      <td>-0.495193</td>\n",
       "      <td>-0.546536</td>\n",
       "    </tr>\n",
       "    <tr>\n",
       "      <th>10298</th>\n",
       "      <td>1.731546</td>\n",
       "      <td>-1.011916</td>\n",
       "      <td>0.998254</td>\n",
       "      <td>0.0</td>\n",
       "      <td>0.100163</td>\n",
       "      <td>-0.369949</td>\n",
       "      <td>-0.454592</td>\n",
       "      <td>-0.595194</td>\n",
       "      <td>0.568578</td>\n",
       "      <td>-0.425341</td>\n",
       "      <td>-0.304313</td>\n",
       "      <td>0.069377</td>\n",
       "      <td>-0.582582</td>\n",
       "      <td>0.582582</td>\n",
       "      <td>2.751456</td>\n",
       "      <td>1.829707</td>\n",
       "    </tr>\n",
       "    <tr>\n",
       "      <th>10299</th>\n",
       "      <td>1.731883</td>\n",
       "      <td>-1.011916</td>\n",
       "      <td>-1.001749</td>\n",
       "      <td>0.0</td>\n",
       "      <td>0.097304</td>\n",
       "      <td>-0.369949</td>\n",
       "      <td>-0.454592</td>\n",
       "      <td>1.106541</td>\n",
       "      <td>0.568578</td>\n",
       "      <td>-0.425341</td>\n",
       "      <td>-0.304313</td>\n",
       "      <td>0.069377</td>\n",
       "      <td>-0.582582</td>\n",
       "      <td>0.582582</td>\n",
       "      <td>0.587023</td>\n",
       "      <td>1.829707</td>\n",
       "    </tr>\n",
       "  </tbody>\n",
       "</table>\n",
       "<p>10300 rows × 16 columns</p>\n",
       "</div>"
      ],
      "text/plain": [
       "       Unnamed: 0       ER+       PR+  MRI1       LD1  NO of node  node coded  \\\n",
       "0       -1.731883 -1.011916  0.998254   0.0 -0.614748    1.928012    2.199773   \n",
       "1       -1.731546  0.988225  0.998254   0.0  0.514812   -0.369949   -0.454592   \n",
       "2       -1.731210  0.988225  0.998254   0.0 -1.444045    0.089643    2.199773   \n",
       "3       -1.730874 -1.011916 -1.001749   0.0  0.022953   -0.369949   -0.454592   \n",
       "4       -1.730537  0.988225  0.998254   0.0  0.443321    2.387604    2.199773   \n",
       "...           ...       ...       ...   ...       ...         ...         ...   \n",
       "10295    1.730537  0.988225  0.998254   0.0 -0.966484    1.008827    2.199773   \n",
       "10296    1.730874  0.988225  0.998254   0.0  1.032407   -0.369949   -0.454592   \n",
       "10297    1.731210 -1.011916  0.998254   0.0  0.660654   -0.369949   -0.454592   \n",
       "10298    1.731546 -1.011916  0.998254   0.0  0.100163   -0.369949   -0.454592   \n",
       "10299    1.731883 -1.011916 -1.001749   0.0  0.097304   -0.369949   -0.454592   \n",
       "\n",
       "       tomur location  tumor stage     node          M     stage  hermonal  \\\n",
       "0           -0.595194    -0.507760  2.755453 -0.304313  1.720958 -0.582582   \n",
       "1            1.957409     0.568578 -0.425341 -0.304313 -0.481150  1.716496   \n",
       "2           -0.595194    -1.584098  0.634924 -0.304313  1.170431  1.716496   \n",
       "3            0.255673     0.568578 -0.425341 -0.304313  0.069377 -0.582582   \n",
       "4            1.106541     0.568578  2.755453 -0.304313  1.720958  1.716496   \n",
       "...               ...          ...       ...       ...       ...       ...   \n",
       "10295        0.255673    -0.507760  1.695188  3.286091  2.271485  1.716496   \n",
       "10296        0.255673     0.568578 -0.425341 -0.304313  0.069377  1.716496   \n",
       "10297       -1.446062     0.568578 -0.425341 -0.304313 -0.481150 -0.582582   \n",
       "10298       -0.595194     0.568578 -0.425341 -0.304313  0.069377 -0.582582   \n",
       "10299        1.106541     0.568578 -0.425341 -0.304313  0.069377 -0.582582   \n",
       "\n",
       "          chemo        ln    censor  \n",
       "0      0.582582 -0.495193 -0.546536  \n",
       "1     -1.716496  0.587023  1.829707  \n",
       "2     -1.716496 -0.495193 -0.546536  \n",
       "3      0.582582 -0.495193 -0.546536  \n",
       "4     -1.716496 -0.495193 -0.546536  \n",
       "...         ...       ...       ...  \n",
       "10295 -1.716496 -0.495193 -0.546536  \n",
       "10296 -1.716496  2.751456  1.829707  \n",
       "10297  0.582582 -0.495193 -0.546536  \n",
       "10298  0.582582  2.751456  1.829707  \n",
       "10299  0.582582  0.587023  1.829707  \n",
       "\n",
       "[10300 rows x 16 columns]"
      ]
     },
     "execution_count": 6,
     "metadata": {},
     "output_type": "execute_result"
    }
   ],
   "source": [
    "df_feat"
   ]
  },
  {
   "cell_type": "markdown",
   "metadata": {},
   "source": [
    "# 1-Decision Tree "
   ]
  },
  {
   "cell_type": "markdown",
   "metadata": {},
   "source": [
    "## Train one Tree:"
   ]
  },
  {
   "cell_type": "code",
   "execution_count": 46,
   "metadata": {},
   "outputs": [],
   "source": [
    "x= df_feat\n",
    "y=df_lc13['surgery']\n",
    "from sklearn.model_selection import train_test_split\n",
    "x_train, x_test, y_train, y_test = train_test_split(x, y, test_size=0.33, random_state=42)"
   ]
  },
  {
   "cell_type": "code",
   "execution_count": 47,
   "metadata": {},
   "outputs": [
    {
     "data": {
      "text/plain": [
       "DecisionTreeClassifier(ccp_alpha=0.0, class_weight=None, criterion='gini',\n",
       "                       max_depth=None, max_features=None, max_leaf_nodes=None,\n",
       "                       min_impurity_decrease=0.0, min_impurity_split=None,\n",
       "                       min_samples_leaf=1, min_samples_split=2,\n",
       "                       min_weight_fraction_leaf=0.0, presort='deprecated',\n",
       "                       random_state=None, splitter='best')"
      ]
     },
     "execution_count": 47,
     "metadata": {},
     "output_type": "execute_result"
    }
   ],
   "source": [
    "from sklearn.tree import DecisionTreeClassifier\n",
    "dtree= DecisionTreeClassifier()\n",
    "dtree.fit(x_train,y_train)"
   ]
  },
  {
   "cell_type": "code",
   "execution_count": 48,
   "metadata": {},
   "outputs": [],
   "source": [
    "predictions3=dtree.predict(x_test)"
   ]
  },
  {
   "cell_type": "markdown",
   "metadata": {},
   "source": [
    "## Evaluation "
   ]
  },
  {
   "cell_type": "code",
   "execution_count": 93,
   "metadata": {},
   "outputs": [
    {
     "name": "stdout",
     "output_type": "stream",
     "text": [
      "              precision    recall  f1-score   support\n",
      "\n",
      "           0       0.78      0.80      0.79      1741\n",
      "           1       0.78      0.76      0.77      1658\n",
      "\n",
      "    accuracy                           0.78      3399\n",
      "   macro avg       0.78      0.78      0.78      3399\n",
      "weighted avg       0.78      0.78      0.78      3399\n",
      "\n",
      "\n",
      "\n"
     ]
    },
    {
     "data": {
      "text/plain": [
       "array([[1737,    4],\n",
       "       [ 603, 1055]], dtype=int64)"
      ]
     },
     "execution_count": 93,
     "metadata": {},
     "output_type": "execute_result"
    }
   ],
   "source": [
    "from sklearn.metrics import classification_report\n",
    "print(classification_report(y_test,predictions3))\n",
    "print('\\n')\n",
    "from sklearn.metrics import confusion_matrix\n",
    "confusion_matrix(y_test,predictions)"
   ]
  },
  {
   "cell_type": "markdown",
   "metadata": {},
   "source": [
    "## Train Random Forest"
   ]
  },
  {
   "cell_type": "code",
   "execution_count": 60,
   "metadata": {},
   "outputs": [],
   "source": [
    "from sklearn.ensemble import RandomForestClassifier\n",
    "rfc= RandomForestClassifier()\n",
    "rfc.fit(x_train,y_train)\n",
    "rfc_predict=rfc.predict(x_test)"
   ]
  },
  {
   "cell_type": "code",
   "execution_count": 61,
   "metadata": {},
   "outputs": [
    {
     "name": "stdout",
     "output_type": "stream",
     "text": [
      "classification_report :\n",
      "              precision    recall  f1-score   support\n",
      "\n",
      "           0       0.77      0.79      0.78      1741\n",
      "           1       0.77      0.75      0.76      1658\n",
      "\n",
      "    accuracy                           0.77      3399\n",
      "   macro avg       0.77      0.77      0.77      3399\n",
      "weighted avg       0.77      0.77      0.77      3399\n",
      "\n",
      "\n",
      "\n",
      "confusion_matrix :\n"
     ]
    },
    {
     "data": {
      "text/plain": [
       "array([[1368,  373],\n",
       "       [ 409, 1249]], dtype=int64)"
      ]
     },
     "execution_count": 61,
     "metadata": {},
     "output_type": "execute_result"
    }
   ],
   "source": [
    "from sklearn.metrics import classification_report\n",
    "print('classification_report :')\n",
    "print(classification_report(y_test,rfc_predict))\n",
    "print('\\n')\n",
    "print('confusion_matrix :')\n",
    "\n",
    "from sklearn.metrics import confusion_matrix\n",
    "confusion_matrix(y_test,rfc_predict)"
   ]
  },
  {
   "cell_type": "markdown",
   "metadata": {},
   "source": [
    "# 2- KNN:"
   ]
  },
  {
   "cell_type": "code",
   "execution_count": 62,
   "metadata": {},
   "outputs": [],
   "source": [
    "x= df_feat\n",
    "y=df_lc13['surgery']\n",
    "from sklearn.model_selection import train_test_split\n",
    "x_train, x_test, y_train, y_test = train_test_split(x, y, test_size=0.33, random_state=42)"
   ]
  },
  {
   "cell_type": "code",
   "execution_count": 63,
   "metadata": {},
   "outputs": [],
   "source": [
    "from sklearn.neighbors import KNeighborsClassifier\n",
    "knn= KNeighborsClassifier(n_neighbors=30)\n",
    "knn.fit(x_train,y_train)\n",
    "predictions4=knn.predict(x_test)"
   ]
  },
  {
   "cell_type": "markdown",
   "metadata": {},
   "source": [
    "## Evaluation "
   ]
  },
  {
   "cell_type": "code",
   "execution_count": 64,
   "metadata": {},
   "outputs": [
    {
     "name": "stdout",
     "output_type": "stream",
     "text": [
      "classification_report :\n",
      "              precision    recall  f1-score   support\n",
      "\n",
      "           0       0.74      0.98      0.85      1741\n",
      "           1       0.96      0.65      0.78      1658\n",
      "\n",
      "    accuracy                           0.82      3399\n",
      "   macro avg       0.85      0.81      0.81      3399\n",
      "weighted avg       0.85      0.82      0.81      3399\n",
      "\n",
      "\n",
      "\n",
      "confusion_matrix :\n"
     ]
    },
    {
     "data": {
      "text/plain": [
       "array([[1702,   39],\n",
       "       [ 584, 1074]], dtype=int64)"
      ]
     },
     "execution_count": 64,
     "metadata": {},
     "output_type": "execute_result"
    }
   ],
   "source": [
    "from sklearn.metrics import classification_report\n",
    "print('classification_report :')\n",
    "print(classification_report(y_test,predictions4))\n",
    "print('\\n')\n",
    "print('confusion_matrix :')\n",
    "from sklearn.metrics import confusion_matrix\n",
    "confusion_matrix(y_test,predictions4)"
   ]
  },
  {
   "cell_type": "markdown",
   "metadata": {},
   "source": [
    "## choose correct K-value"
   ]
  },
  {
   "cell_type": "code",
   "execution_count": 79,
   "metadata": {},
   "outputs": [],
   "source": [
    "error_rate=[]\n",
    "for i in range(1,80):\n",
    "    knn=KNeighborsClassifier(n_neighbors=i)\n",
    "    knn.fit(x_train,y_train)\n",
    "    pred_i= knn.predict(x_test)\n",
    "    error_rate.append(np.mean(pred_i != y_test))"
   ]
  },
  {
   "cell_type": "code",
   "execution_count": 80,
   "metadata": {},
   "outputs": [
    {
     "data": {
      "text/plain": [
       "Text(0, 0.5, 'Error Rate')"
      ]
     },
     "execution_count": 80,
     "metadata": {},
     "output_type": "execute_result"
    },
    {
     "data": {
      "image/png": "[encoded data removed]",
      "text/plain": [
       "<Figure size 936x648 with 1 Axes>"
      ]
     },
     "metadata": {
      "needs_background": "light"
     },
     "output_type": "display_data"
    }
   ],
   "source": [
    "plt.figure(figsize=(13,9))\n",
    "plt.plot(range(1,80), error_rate, color='blue', linestyle='dashed',marker='o',markerfacecolor='red',markersize='10')\n",
    "plt.title('Error Rate vs K-value')\n",
    "plt.xlabel('K-values')\n",
    "plt.ylabel('Error Rate')"
   ]
  },
  {
   "cell_type": "code",
   "execution_count": 83,
   "metadata": {},
   "outputs": [],
   "source": [
    "knn= KNeighborsClassifier(n_neighbors=77)\n",
    "knn.fit(x_train,y_train)\n",
    "predic=knn.predict(x_test)"
   ]
  },
  {
   "cell_type": "code",
   "execution_count": 84,
   "metadata": {},
   "outputs": [
    {
     "name": "stdout",
     "output_type": "stream",
     "text": [
      "classification_report :\n",
      "              precision    recall  f1-score   support\n",
      "\n",
      "           0       0.74      1.00      0.85      1741\n",
      "           1       1.00      0.64      0.78      1658\n",
      "\n",
      "    accuracy                           0.82      3399\n",
      "   macro avg       0.87      0.82      0.81      3399\n",
      "weighted avg       0.87      0.82      0.81      3399\n",
      "\n",
      "\n",
      "\n",
      "confusion_matrix :\n"
     ]
    },
    {
     "data": {
      "text/plain": [
       "array([[1736,    5],\n",
       "       [ 605, 1053]], dtype=int64)"
      ]
     },
     "execution_count": 84,
     "metadata": {},
     "output_type": "execute_result"
    }
   ],
   "source": [
    "from sklearn.metrics import classification_report\n",
    "print('classification_report :')\n",
    "print(classification_report(y_test,predic))\n",
    "print('\\n')\n",
    "print('confusion_matrix :')\n",
    "from sklearn.metrics import confusion_matrix\n",
    "confusion_matrix(y_test,predic)"
   ]
  },
  {
   "cell_type": "markdown",
   "metadata": {},
   "source": [
    "# According to calclations:::\n",
    "## Best Model in Surgrey  Claasification Predection is:\n",
    "# (( KNN better than Decision Tree ))"
   ]
  },
  {
   "cell_type": "code",
   "execution_count": 86,
   "metadata": {},
   "outputs": [],
   "source": []
  },
  {
   "cell_type": "code",
   "execution_count": null,
   "metadata": {},
   "outputs": [],
   "source": []
  },
  {
   "cell_type": "code",
   "execution_count": null,
   "metadata": {},
   "outputs": [],
   "source": []
  }
 ],
 "metadata": {
  "kernelspec": {
   "display_name": "Python 3",
   "language": "python",
   "name": "python3"
  },
  "language_info": {
   "codemirror_mode": {
    "name": "ipython",
    "version": 3
   },
   "file_extension": ".py",
   "mimetype": "text/x-python",
   "name": "python",
   "nbconvert_exporter": "python",
   "pygments_lexer": "ipython3",
   "version": "3.7.7"
  }
 },
 "nbformat": 4,
 "nbformat_minor": 2
}
