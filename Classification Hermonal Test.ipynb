{
 "cells": [
  {
   "cell_type": "markdown",
   "metadata": {},
   "source": [
    "# ---------------------------------------\n",
    "# | Classification for Hermonal |\n",
    "# ---------------------------------------\n"
   ]
  },
  {
   "cell_type": "code",
   "execution_count": 51,
   "metadata": {},
   "outputs": [
    {
     "data": {
      "text/html": [
       "<div>\n",
       "<style scoped>\n",
       "    .dataframe tbody tr th:only-of-type {\n",
       "        vertical-align: middle;\n",
       "    }\n",
       "\n",
       "    .dataframe tbody tr th {\n",
       "        vertical-align: top;\n",
       "    }\n",
       "\n",
       "    .dataframe thead th {\n",
       "        text-align: right;\n",
       "    }\n",
       "</style>\n",
       "<table border=\"1\" class=\"dataframe\">\n",
       "  <thead>\n",
       "    <tr style=\"text-align: right;\">\n",
       "      <th></th>\n",
       "      <th>ER+</th>\n",
       "      <th>PR+</th>\n",
       "      <th>MRI1</th>\n",
       "      <th>LD1</th>\n",
       "      <th>NO of node</th>\n",
       "      <th>node coded</th>\n",
       "      <th>tomur location</th>\n",
       "      <th>tumor stage</th>\n",
       "      <th>node</th>\n",
       "      <th>M</th>\n",
       "      <th>stage</th>\n",
       "      <th>hermonal</th>\n",
       "      <th>chemo</th>\n",
       "      <th>surgery</th>\n",
       "      <th>ln</th>\n",
       "      <th>censor</th>\n",
       "    </tr>\n",
       "  </thead>\n",
       "  <tbody>\n",
       "    <tr>\n",
       "      <th>0</th>\n",
       "      <td>0</td>\n",
       "      <td>1</td>\n",
       "      <td>yes</td>\n",
       "      <td>4.00</td>\n",
       "      <td>5</td>\n",
       "      <td>Positive</td>\n",
       "      <td>left_low</td>\n",
       "      <td>T2</td>\n",
       "      <td>N3</td>\n",
       "      <td>M0</td>\n",
       "      <td>Stage IIIC</td>\n",
       "      <td>0</td>\n",
       "      <td>1</td>\n",
       "      <td>0</td>\n",
       "      <td>0</td>\n",
       "      <td>0</td>\n",
       "    </tr>\n",
       "    <tr>\n",
       "      <th>1</th>\n",
       "      <td>1</td>\n",
       "      <td>1</td>\n",
       "      <td>yes</td>\n",
       "      <td>7.95</td>\n",
       "      <td>0</td>\n",
       "      <td>Negative</td>\n",
       "      <td>right_up</td>\n",
       "      <td>T3</td>\n",
       "      <td>N0</td>\n",
       "      <td>M0</td>\n",
       "      <td>Stage IIA</td>\n",
       "      <td>1</td>\n",
       "      <td>0</td>\n",
       "      <td>1</td>\n",
       "      <td>1</td>\n",
       "      <td>1</td>\n",
       "    </tr>\n",
       "    <tr>\n",
       "      <th>2</th>\n",
       "      <td>1</td>\n",
       "      <td>1</td>\n",
       "      <td>yes</td>\n",
       "      <td>1.10</td>\n",
       "      <td>1</td>\n",
       "      <td>Positive</td>\n",
       "      <td>left_low</td>\n",
       "      <td>T1</td>\n",
       "      <td>N1</td>\n",
       "      <td>M0</td>\n",
       "      <td>Stage IIIB</td>\n",
       "      <td>1</td>\n",
       "      <td>0</td>\n",
       "      <td>0</td>\n",
       "      <td>0</td>\n",
       "      <td>0</td>\n",
       "    </tr>\n",
       "    <tr>\n",
       "      <th>3</th>\n",
       "      <td>0</td>\n",
       "      <td>0</td>\n",
       "      <td>yes</td>\n",
       "      <td>6.23</td>\n",
       "      <td>0</td>\n",
       "      <td>Negative</td>\n",
       "      <td>left_up</td>\n",
       "      <td>T3</td>\n",
       "      <td>N0</td>\n",
       "      <td>M0</td>\n",
       "      <td>Stage IIB</td>\n",
       "      <td>0</td>\n",
       "      <td>1</td>\n",
       "      <td>0</td>\n",
       "      <td>0</td>\n",
       "      <td>0</td>\n",
       "    </tr>\n",
       "    <tr>\n",
       "      <th>4</th>\n",
       "      <td>1</td>\n",
       "      <td>1</td>\n",
       "      <td>yes</td>\n",
       "      <td>7.70</td>\n",
       "      <td>6</td>\n",
       "      <td>Positive</td>\n",
       "      <td>right_low</td>\n",
       "      <td>T3</td>\n",
       "      <td>N3</td>\n",
       "      <td>M0</td>\n",
       "      <td>Stage IIIC</td>\n",
       "      <td>1</td>\n",
       "      <td>0</td>\n",
       "      <td>0</td>\n",
       "      <td>0</td>\n",
       "      <td>0</td>\n",
       "    </tr>\n",
       "  </tbody>\n",
       "</table>\n",
       "</div>"
      ],
      "text/plain": [
       "   ER+  PR+ MRI1   LD1  NO of node node coded tomur location tumor stage  \\\n",
       "0    0    1  yes  4.00           5   Positive       left_low          T2   \n",
       "1    1    1  yes  7.95           0   Negative       right_up          T3   \n",
       "2    1    1  yes  1.10           1   Positive       left_low          T1   \n",
       "3    0    0  yes  6.23           0   Negative        left_up          T3   \n",
       "4    1    1  yes  7.70           6   Positive      right_low          T3   \n",
       "\n",
       "  node    M       stage  hermonal  chemo  surgery  ln  censor  \n",
       "0    N3  M0  Stage IIIC         0      1        0   0       0  \n",
       "1    N0  M0   Stage IIA         1      0        1   1       1  \n",
       "2    N1  M0  Stage IIIB         1      0        0   0       0  \n",
       "3    N0  M0   Stage IIB         0      1        0   0       0  \n",
       "4    N3  M0  Stage IIIC         1      0        0   0       0  "
      ]
     },
     "execution_count": 51,
     "metadata": {},
     "output_type": "execute_result"
    }
   ],
   "source": [
    "import pandas as pd\n",
    "import numpy as np\n",
    "import matplotlib.pyplot as plt\n",
    "%matplotlib inline\n",
    "import seaborn as sns\n",
    "\n",
    "df= pd.read_csv('col.csv')\n",
    "df.head()"
   ]
  },
  {
   "cell_type": "markdown",
   "metadata": {},
   "source": [
    "## *Frist: Data prepration :"
   ]
  },
  {
   "cell_type": "code",
   "execution_count": 3,
   "metadata": {},
   "outputs": [],
   "source": [
    "replace_map = {'stage': {'IA': 1, 'IB': 2, 'IIA': 3, 'IIB': 4,\n",
    "                                  'IIC': 5, 'IIIA': 6, 'IIIB': 7 , 'IIIC': 8 , 'IV': 9}}\n",
    "labels = df['stage'].astype('category').cat.categories.tolist()\n",
    "replace_map_comp = {'stage' : {k: v for k,v in zip(labels,list(range(1,len(labels)+1)))}}\n",
    "\n",
    "df_copy = df.copy()\n",
    "df_copy.replace(replace_map_comp, inplace=True)\n",
    "df_lc = df_copy.copy()\n",
    "df_lc['stage'] = df_lc['stage'].astype('category')"
   ]
  },
  {
   "cell_type": "code",
   "execution_count": 4,
   "metadata": {},
   "outputs": [],
   "source": [
    "replace_map = {'tumor stage': {'T1': 1, 'T2': 2, 'T3': 3, 'T4': 4}}\n",
    "labels = df['tumor stage'].astype('category').cat.categories.tolist()\n",
    "\n",
    "replace_map_comp = {'tumor stage' : {k: v for k,v in zip(labels,list(range(1,len(labels)+1)))}}\n",
    "df_lc2 = df_lc.copy()\n",
    "df_lc2.replace(replace_map_comp, inplace=True)\n",
    "df_lc3 = df_lc2.copy()\n",
    "df_lc3['tumor stage'] = df_lc3['tumor stage'].astype('category')"
   ]
  },
  {
   "cell_type": "code",
   "execution_count": 5,
   "metadata": {},
   "outputs": [],
   "source": [
    "replace_map = {'tomur location': {'left_low': 1, 'right_up': 2, 'left_up': 3, 'right_low': 4,\n",
    "                                  'central': 5}}\n",
    "labels = df_lc3['tomur location'].astype('category').cat.categories.tolist()\n",
    "replace_map_comp = {'tomur location' : {k: v for k,v in zip(labels,list(range(1,len(labels)+1)))}}\n",
    "df_lc4 = df_lc3.copy()\n",
    "df_lc4.replace(replace_map_comp, inplace=True)\n",
    "df_lc5 = df_lc4.copy()\n",
    "df_lc5['tomur location'] = df_lc5['tomur location'].astype('category')"
   ]
  },
  {
   "cell_type": "code",
   "execution_count": 6,
   "metadata": {},
   "outputs": [],
   "source": [
    "replace_map = {'node coded': {'Negative': 0, 'Positive': 1}}\n",
    "labels = df_lc5['node coded'].astype('category').cat.categories.tolist()\n",
    "replace_map_comp = {'node coded' : {k: v for k,v in zip(labels,list(range(1,len(labels)+1)))}}\n",
    "df_lc6 = df_lc5.copy()\n",
    "df_lc6.replace(replace_map_comp, inplace=True)\n",
    "df_lc7 = df_lc6.copy()\n",
    "df_lc7['node coded'] = df_lc7['node coded'].astype('category')"
   ]
  },
  {
   "cell_type": "code",
   "execution_count": 7,
   "metadata": {},
   "outputs": [],
   "source": [
    "replace_map = {'MRI1': {'yes': 0, 'no': 1}}\n",
    "labels = df_lc7['MRI1'].astype('category').cat.categories.tolist()\n",
    "replace_map_comp = {'MRI1' : {k: v for k,v in zip(labels,list(range(1,len(labels)+1)))}}\n",
    "df_lc8 = df_lc7.copy()\n",
    "df_lc8.replace(replace_map_comp, inplace=True)\n",
    "df_lc9 = df_lc8.copy()\n",
    "df_lc9['MRI1'] = df_lc9['MRI1'].astype('category')\n"
   ]
  },
  {
   "cell_type": "code",
   "execution_count": 8,
   "metadata": {},
   "outputs": [],
   "source": [
    "replace_map = {'node ': {'N0': 1, 'N1': 2, 'N2': 3, 'T3': 4}}\n",
    "labels = df['node '].astype('category').cat.categories.tolist()\n",
    "replace_map_comp = {'node ' : {k: v for k,v in zip(labels,list(range(1,len(labels)+1)))}}\n",
    "df_lc10 = df_lc9.copy()\n",
    "df_lc10.replace(replace_map_comp, inplace=True)\n",
    "df_lc11 = df_lc10.copy()\n",
    "df_lc11['node '] = df_lc11['node '].astype('category')"
   ]
  },
  {
   "cell_type": "code",
   "execution_count": 9,
   "metadata": {},
   "outputs": [],
   "source": [
    "replace_map = {'M': {'M0': 1, 'M1': 2}}\n",
    "labels = df_lc11['M'].astype('category').cat.categories.tolist()\n",
    "replace_map_comp = {'M' : {k: v for k,v in zip(labels,list(range(1,len(labels)+1)))}}\n",
    "df_lc12 = df_lc11.copy()\n",
    "df_lc12.replace(replace_map_comp, inplace=True)\n",
    "df_lc13 = df_lc12.copy()\n",
    "df_lc13['M'] = df_lc13['M'].astype('category')"
   ]
  },
  {
   "cell_type": "code",
   "execution_count": 10,
   "metadata": {},
   "outputs": [
    {
     "name": "stdout",
     "output_type": "stream",
     "text": [
      "ER+               category\n",
      "PR+               category\n",
      "MRI1              category\n",
      "LD1                float64\n",
      "NO of node        category\n",
      "node coded        category\n",
      "tomur location    category\n",
      "tumor stage       category\n",
      "node              category\n",
      "M                 category\n",
      "stage             category\n",
      "hermonal          category\n",
      "chemo             category\n",
      "surgery           category\n",
      "ln                category\n",
      "censor            category\n",
      "dtype: object\n"
     ]
    }
   ],
   "source": [
    "df_lc13['hermonal'] = df_lc13['hermonal'].astype('category')\n",
    "\n",
    "df_lc13['chemo'] = df_lc13['chemo'].astype('category')\n",
    "\n",
    "df_lc13['surgery'] = df_lc13['surgery'].astype('category')\n",
    "\n",
    "df_lc13['ln'] = df_lc13['ln'].astype('category')\n",
    "\n",
    "df_lc13['censor'] = df_lc13['censor'].astype('category')\n",
    "\n",
    "df_lc13['NO of node'] = df_lc13['NO of node'].astype('category')\n",
    "\n",
    "df_lc13['ER+'] = df_lc13['ER+'].astype('category')\n",
    "\n",
    "df_lc13['PR+'] = df_lc13['PR+'].astype('category')\n",
    "\n",
    "print(df_lc13.dtypes)\n"
   ]
  },
  {
   "cell_type": "markdown",
   "metadata": {},
   "source": [
    "# 1- Logistic regression\n",
    "## Preprocessing\n",
    "## (with StandardScale)"
   ]
  },
  {
   "cell_type": "code",
   "execution_count": 11,
   "metadata": {},
   "outputs": [],
   "source": [
    "from sklearn.preprocessing import StandardScaler\n",
    "df_drop_target=df_lc13.drop('hermonal',axis=1)\n",
    "scaler =StandardScaler()\n",
    "scaler.fit(df_drop_target)\n",
    "scaled_features= scaler.transform(df_drop_target)\n",
    "df_feat=pd.DataFrame(scaled_features,columns=df_drop_target.columns)"
   ]
  },
  {
   "cell_type": "code",
   "execution_count": 12,
   "metadata": {},
   "outputs": [
    {
     "data": {
      "text/html": [
       "<div>\n",
       "<style scoped>\n",
       "    .dataframe tbody tr th:only-of-type {\n",
       "        vertical-align: middle;\n",
       "    }\n",
       "\n",
       "    .dataframe tbody tr th {\n",
       "        vertical-align: top;\n",
       "    }\n",
       "\n",
       "    .dataframe thead th {\n",
       "        text-align: right;\n",
       "    }\n",
       "</style>\n",
       "<table border=\"1\" class=\"dataframe\">\n",
       "  <thead>\n",
       "    <tr style=\"text-align: right;\">\n",
       "      <th></th>\n",
       "      <th>ER+</th>\n",
       "      <th>PR+</th>\n",
       "      <th>MRI1</th>\n",
       "      <th>LD1</th>\n",
       "      <th>NO of node</th>\n",
       "      <th>node coded</th>\n",
       "      <th>tomur location</th>\n",
       "      <th>tumor stage</th>\n",
       "      <th>node</th>\n",
       "      <th>M</th>\n",
       "      <th>stage</th>\n",
       "      <th>chemo</th>\n",
       "      <th>surgery</th>\n",
       "      <th>ln</th>\n",
       "      <th>censor</th>\n",
       "    </tr>\n",
       "  </thead>\n",
       "  <tbody>\n",
       "    <tr>\n",
       "      <th>0</th>\n",
       "      <td>-1.011916</td>\n",
       "      <td>0.998254</td>\n",
       "      <td>0.0</td>\n",
       "      <td>-0.614748</td>\n",
       "      <td>1.928012</td>\n",
       "      <td>2.199773</td>\n",
       "      <td>-0.595194</td>\n",
       "      <td>-0.507760</td>\n",
       "      <td>2.755453</td>\n",
       "      <td>-0.304313</td>\n",
       "      <td>1.720958</td>\n",
       "      <td>0.582582</td>\n",
       "      <td>-0.954249</td>\n",
       "      <td>-0.495193</td>\n",
       "      <td>-0.546536</td>\n",
       "    </tr>\n",
       "    <tr>\n",
       "      <th>1</th>\n",
       "      <td>0.988225</td>\n",
       "      <td>0.998254</td>\n",
       "      <td>0.0</td>\n",
       "      <td>0.514812</td>\n",
       "      <td>-0.369949</td>\n",
       "      <td>-0.454592</td>\n",
       "      <td>1.957409</td>\n",
       "      <td>0.568578</td>\n",
       "      <td>-0.425341</td>\n",
       "      <td>-0.304313</td>\n",
       "      <td>-0.481150</td>\n",
       "      <td>-1.716496</td>\n",
       "      <td>1.047944</td>\n",
       "      <td>0.587023</td>\n",
       "      <td>1.829707</td>\n",
       "    </tr>\n",
       "    <tr>\n",
       "      <th>2</th>\n",
       "      <td>0.988225</td>\n",
       "      <td>0.998254</td>\n",
       "      <td>0.0</td>\n",
       "      <td>-1.444045</td>\n",
       "      <td>0.089643</td>\n",
       "      <td>2.199773</td>\n",
       "      <td>-0.595194</td>\n",
       "      <td>-1.584098</td>\n",
       "      <td>0.634924</td>\n",
       "      <td>-0.304313</td>\n",
       "      <td>1.170431</td>\n",
       "      <td>-1.716496</td>\n",
       "      <td>-0.954249</td>\n",
       "      <td>-0.495193</td>\n",
       "      <td>-0.546536</td>\n",
       "    </tr>\n",
       "    <tr>\n",
       "      <th>3</th>\n",
       "      <td>-1.011916</td>\n",
       "      <td>-1.001749</td>\n",
       "      <td>0.0</td>\n",
       "      <td>0.022953</td>\n",
       "      <td>-0.369949</td>\n",
       "      <td>-0.454592</td>\n",
       "      <td>0.255673</td>\n",
       "      <td>0.568578</td>\n",
       "      <td>-0.425341</td>\n",
       "      <td>-0.304313</td>\n",
       "      <td>0.069377</td>\n",
       "      <td>0.582582</td>\n",
       "      <td>-0.954249</td>\n",
       "      <td>-0.495193</td>\n",
       "      <td>-0.546536</td>\n",
       "    </tr>\n",
       "    <tr>\n",
       "      <th>4</th>\n",
       "      <td>0.988225</td>\n",
       "      <td>0.998254</td>\n",
       "      <td>0.0</td>\n",
       "      <td>0.443321</td>\n",
       "      <td>2.387604</td>\n",
       "      <td>2.199773</td>\n",
       "      <td>1.106541</td>\n",
       "      <td>0.568578</td>\n",
       "      <td>2.755453</td>\n",
       "      <td>-0.304313</td>\n",
       "      <td>1.720958</td>\n",
       "      <td>-1.716496</td>\n",
       "      <td>-0.954249</td>\n",
       "      <td>-0.495193</td>\n",
       "      <td>-0.546536</td>\n",
       "    </tr>\n",
       "    <tr>\n",
       "      <th>...</th>\n",
       "      <td>...</td>\n",
       "      <td>...</td>\n",
       "      <td>...</td>\n",
       "      <td>...</td>\n",
       "      <td>...</td>\n",
       "      <td>...</td>\n",
       "      <td>...</td>\n",
       "      <td>...</td>\n",
       "      <td>...</td>\n",
       "      <td>...</td>\n",
       "      <td>...</td>\n",
       "      <td>...</td>\n",
       "      <td>...</td>\n",
       "      <td>...</td>\n",
       "      <td>...</td>\n",
       "    </tr>\n",
       "    <tr>\n",
       "      <th>10295</th>\n",
       "      <td>0.988225</td>\n",
       "      <td>0.998254</td>\n",
       "      <td>0.0</td>\n",
       "      <td>-0.966484</td>\n",
       "      <td>1.008827</td>\n",
       "      <td>2.199773</td>\n",
       "      <td>0.255673</td>\n",
       "      <td>-0.507760</td>\n",
       "      <td>1.695188</td>\n",
       "      <td>3.286091</td>\n",
       "      <td>2.271485</td>\n",
       "      <td>-1.716496</td>\n",
       "      <td>-0.954249</td>\n",
       "      <td>-0.495193</td>\n",
       "      <td>-0.546536</td>\n",
       "    </tr>\n",
       "    <tr>\n",
       "      <th>10296</th>\n",
       "      <td>0.988225</td>\n",
       "      <td>0.998254</td>\n",
       "      <td>0.0</td>\n",
       "      <td>1.032407</td>\n",
       "      <td>-0.369949</td>\n",
       "      <td>-0.454592</td>\n",
       "      <td>0.255673</td>\n",
       "      <td>0.568578</td>\n",
       "      <td>-0.425341</td>\n",
       "      <td>-0.304313</td>\n",
       "      <td>0.069377</td>\n",
       "      <td>-1.716496</td>\n",
       "      <td>1.047944</td>\n",
       "      <td>2.751456</td>\n",
       "      <td>1.829707</td>\n",
       "    </tr>\n",
       "    <tr>\n",
       "      <th>10297</th>\n",
       "      <td>-1.011916</td>\n",
       "      <td>0.998254</td>\n",
       "      <td>0.0</td>\n",
       "      <td>0.660654</td>\n",
       "      <td>-0.369949</td>\n",
       "      <td>-0.454592</td>\n",
       "      <td>-1.446062</td>\n",
       "      <td>0.568578</td>\n",
       "      <td>-0.425341</td>\n",
       "      <td>-0.304313</td>\n",
       "      <td>-0.481150</td>\n",
       "      <td>0.582582</td>\n",
       "      <td>-0.954249</td>\n",
       "      <td>-0.495193</td>\n",
       "      <td>-0.546536</td>\n",
       "    </tr>\n",
       "    <tr>\n",
       "      <th>10298</th>\n",
       "      <td>-1.011916</td>\n",
       "      <td>0.998254</td>\n",
       "      <td>0.0</td>\n",
       "      <td>0.100163</td>\n",
       "      <td>-0.369949</td>\n",
       "      <td>-0.454592</td>\n",
       "      <td>-0.595194</td>\n",
       "      <td>0.568578</td>\n",
       "      <td>-0.425341</td>\n",
       "      <td>-0.304313</td>\n",
       "      <td>0.069377</td>\n",
       "      <td>0.582582</td>\n",
       "      <td>1.047944</td>\n",
       "      <td>2.751456</td>\n",
       "      <td>1.829707</td>\n",
       "    </tr>\n",
       "    <tr>\n",
       "      <th>10299</th>\n",
       "      <td>-1.011916</td>\n",
       "      <td>-1.001749</td>\n",
       "      <td>0.0</td>\n",
       "      <td>0.097304</td>\n",
       "      <td>-0.369949</td>\n",
       "      <td>-0.454592</td>\n",
       "      <td>1.106541</td>\n",
       "      <td>0.568578</td>\n",
       "      <td>-0.425341</td>\n",
       "      <td>-0.304313</td>\n",
       "      <td>0.069377</td>\n",
       "      <td>0.582582</td>\n",
       "      <td>1.047944</td>\n",
       "      <td>0.587023</td>\n",
       "      <td>1.829707</td>\n",
       "    </tr>\n",
       "  </tbody>\n",
       "</table>\n",
       "<p>10300 rows × 15 columns</p>\n",
       "</div>"
      ],
      "text/plain": [
       "            ER+       PR+  MRI1       LD1  NO of node  node coded  \\\n",
       "0     -1.011916  0.998254   0.0 -0.614748    1.928012    2.199773   \n",
       "1      0.988225  0.998254   0.0  0.514812   -0.369949   -0.454592   \n",
       "2      0.988225  0.998254   0.0 -1.444045    0.089643    2.199773   \n",
       "3     -1.011916 -1.001749   0.0  0.022953   -0.369949   -0.454592   \n",
       "4      0.988225  0.998254   0.0  0.443321    2.387604    2.199773   \n",
       "...         ...       ...   ...       ...         ...         ...   \n",
       "10295  0.988225  0.998254   0.0 -0.966484    1.008827    2.199773   \n",
       "10296  0.988225  0.998254   0.0  1.032407   -0.369949   -0.454592   \n",
       "10297 -1.011916  0.998254   0.0  0.660654   -0.369949   -0.454592   \n",
       "10298 -1.011916  0.998254   0.0  0.100163   -0.369949   -0.454592   \n",
       "10299 -1.011916 -1.001749   0.0  0.097304   -0.369949   -0.454592   \n",
       "\n",
       "       tomur location  tumor stage     node          M     stage     chemo  \\\n",
       "0           -0.595194    -0.507760  2.755453 -0.304313  1.720958  0.582582   \n",
       "1            1.957409     0.568578 -0.425341 -0.304313 -0.481150 -1.716496   \n",
       "2           -0.595194    -1.584098  0.634924 -0.304313  1.170431 -1.716496   \n",
       "3            0.255673     0.568578 -0.425341 -0.304313  0.069377  0.582582   \n",
       "4            1.106541     0.568578  2.755453 -0.304313  1.720958 -1.716496   \n",
       "...               ...          ...       ...       ...       ...       ...   \n",
       "10295        0.255673    -0.507760  1.695188  3.286091  2.271485 -1.716496   \n",
       "10296        0.255673     0.568578 -0.425341 -0.304313  0.069377 -1.716496   \n",
       "10297       -1.446062     0.568578 -0.425341 -0.304313 -0.481150  0.582582   \n",
       "10298       -0.595194     0.568578 -0.425341 -0.304313  0.069377  0.582582   \n",
       "10299        1.106541     0.568578 -0.425341 -0.304313  0.069377  0.582582   \n",
       "\n",
       "        surgery        ln    censor  \n",
       "0     -0.954249 -0.495193 -0.546536  \n",
       "1      1.047944  0.587023  1.829707  \n",
       "2     -0.954249 -0.495193 -0.546536  \n",
       "3     -0.954249 -0.495193 -0.546536  \n",
       "4     -0.954249 -0.495193 -0.546536  \n",
       "...         ...       ...       ...  \n",
       "10295 -0.954249 -0.495193 -0.546536  \n",
       "10296  1.047944  2.751456  1.829707  \n",
       "10297 -0.954249 -0.495193 -0.546536  \n",
       "10298  1.047944  2.751456  1.829707  \n",
       "10299  1.047944  0.587023  1.829707  \n",
       "\n",
       "[10300 rows x 15 columns]"
      ]
     },
     "execution_count": 12,
     "metadata": {},
     "output_type": "execute_result"
    }
   ],
   "source": [
    "df_feat"
   ]
  },
  {
   "cell_type": "markdown",
   "metadata": {},
   "source": [
    "# Train test split"
   ]
  },
  {
   "cell_type": "code",
   "execution_count": 13,
   "metadata": {},
   "outputs": [],
   "source": [
    "x= df_feat\n",
    "y=df_lc13['hermonal']\n",
    "from sklearn.model_selection import train_test_split\n",
    "x_train, x_test, y_train, y_test = train_test_split(x, y, test_size=0.38, random_state=42)"
   ]
  },
  {
   "cell_type": "code",
   "execution_count": 14,
   "metadata": {},
   "outputs": [],
   "source": [
    "from sklearn.linear_model import LogisticRegression\n",
    "logModel= LogisticRegression()\n",
    "logModel.fit(x_train,y_train)\n",
    "predictions= logModel.predict(x_test)"
   ]
  },
  {
   "cell_type": "markdown",
   "metadata": {},
   "source": [
    "# Evaluation "
   ]
  },
  {
   "cell_type": "code",
   "execution_count": 15,
   "metadata": {},
   "outputs": [
    {
     "name": "stdout",
     "output_type": "stream",
     "text": [
      "classification_report: \n",
      "              precision    recall  f1-score   support\n",
      "\n",
      "           0       1.00      1.00      1.00      2894\n",
      "           1       1.00      1.00      1.00      1020\n",
      "\n",
      "    accuracy                           1.00      3914\n",
      "   macro avg       1.00      1.00      1.00      3914\n",
      "weighted avg       1.00      1.00      1.00      3914\n",
      "\n",
      "confusion_matrix: \n"
     ]
    },
    {
     "data": {
      "text/plain": [
       "array([[2894,    0],\n",
       "       [   0, 1020]], dtype=int64)"
      ]
     },
     "execution_count": 15,
     "metadata": {},
     "output_type": "execute_result"
    }
   ],
   "source": [
    "from sklearn.metrics import classification_report\n",
    "print('classification_report: ')\n",
    "print(classification_report(y_test,predictions))\n",
    "\n",
    "from sklearn.metrics import confusion_matrix\n",
    "print('confusion_matrix: ')\n",
    "confusion_matrix(y_test,predictions)"
   ]
  },
  {
   "cell_type": "markdown",
   "metadata": {},
   "source": [
    "# 3-Decision Tree \n",
    "## Train one Tree:"
   ]
  },
  {
   "cell_type": "code",
   "execution_count": 27,
   "metadata": {},
   "outputs": [],
   "source": [
    "x= df_feat\n",
    "y=df_lc13['hermonal']\n",
    "from sklearn.model_selection import train_test_split\n",
    "x_train, x_test, y_train, y_test = train_test_split(x, y, test_size=0.33, random_state=80)"
   ]
  },
  {
   "cell_type": "code",
   "execution_count": 28,
   "metadata": {},
   "outputs": [],
   "source": [
    "from sklearn.tree import DecisionTreeClassifier\n",
    "dtree= DecisionTreeClassifier()\n",
    "dtree.fit(x_train,y_train)\n",
    "predictions3=dtree.predict(x_test)"
   ]
  },
  {
   "cell_type": "markdown",
   "metadata": {},
   "source": [
    "## Evaluation \n"
   ]
  },
  {
   "cell_type": "code",
   "execution_count": 29,
   "metadata": {},
   "outputs": [
    {
     "name": "stdout",
     "output_type": "stream",
     "text": [
      "              precision    recall  f1-score   support\n",
      "\n",
      "           0       1.00      1.00      1.00      2561\n",
      "           1       1.00      1.00      1.00       838\n",
      "\n",
      "    accuracy                           1.00      3399\n",
      "   macro avg       1.00      1.00      1.00      3399\n",
      "weighted avg       1.00      1.00      1.00      3399\n",
      "\n",
      "\n",
      "\n"
     ]
    },
    {
     "data": {
      "text/plain": [
       "array([[1869,  692],\n",
       "       [ 642,  196]], dtype=int64)"
      ]
     },
     "execution_count": 29,
     "metadata": {},
     "output_type": "execute_result"
    }
   ],
   "source": [
    "from sklearn.metrics import classification_report\n",
    "print(classification_report(y_test,predictions3))\n",
    "print('\\n')\n",
    "from sklearn.metrics import confusion_matrix\n",
    "confusion_matrix(y_test,predictions)"
   ]
  },
  {
   "cell_type": "markdown",
   "metadata": {},
   "source": [
    "## Train Random Forest"
   ]
  },
  {
   "cell_type": "code",
   "execution_count": 25,
   "metadata": {},
   "outputs": [],
   "source": [
    "from sklearn.ensemble import RandomForestClassifier\n",
    "rfc= RandomForestClassifier()\n",
    "rfc.fit(x_train,y_train)\n",
    "rfc_predict=rfc.predict(x_test)"
   ]
  },
  {
   "cell_type": "code",
   "execution_count": 26,
   "metadata": {},
   "outputs": [
    {
     "name": "stdout",
     "output_type": "stream",
     "text": [
      "classification_report :\n",
      "              precision    recall  f1-score   support\n",
      "\n",
      "           0       1.00      1.00      1.00      2511\n",
      "           1       1.00      1.00      1.00       888\n",
      "\n",
      "    accuracy                           1.00      3399\n",
      "   macro avg       1.00      1.00      1.00      3399\n",
      "weighted avg       1.00      1.00      1.00      3399\n",
      "\n",
      "\n",
      "\n",
      "confusion_matrix :\n"
     ]
    },
    {
     "data": {
      "text/plain": [
       "array([[2511,    0],\n",
       "       [   0,  888]], dtype=int64)"
      ]
     },
     "execution_count": 26,
     "metadata": {},
     "output_type": "execute_result"
    }
   ],
   "source": [
    "from sklearn.metrics import classification_report\n",
    "print('classification_report :')\n",
    "print(classification_report(y_test,rfc_predict))\n",
    "print('\\n')\n",
    "print('confusion_matrix :')\n",
    "\n",
    "from sklearn.metrics import confusion_matrix\n",
    "confusion_matrix(y_test,rfc_predict)"
   ]
  },
  {
   "cell_type": "markdown",
   "metadata": {},
   "source": [
    "# 4- KNN:"
   ]
  },
  {
   "cell_type": "code",
   "execution_count": 16,
   "metadata": {},
   "outputs": [],
   "source": [
    "x= df_feat\n",
    "y=df_lc13['hermonal']\n",
    "from sklearn.model_selection import train_test_split\n",
    "x_train, x_test, y_train, y_test = train_test_split(x, y, test_size=0.33, random_state=42)"
   ]
  },
  {
   "cell_type": "code",
   "execution_count": 17,
   "metadata": {},
   "outputs": [],
   "source": [
    "from sklearn.neighbors import KNeighborsClassifier\n",
    "knn= KNeighborsClassifier(n_neighbors=30)\n",
    "knn.fit(x_train,y_train)\n",
    "predictions4=knn.predict(x_test)"
   ]
  },
  {
   "cell_type": "code",
   "execution_count": 18,
   "metadata": {},
   "outputs": [
    {
     "name": "stdout",
     "output_type": "stream",
     "text": [
      "classification_report :\n",
      "              precision    recall  f1-score   support\n",
      "\n",
      "           0       1.00      1.00      1.00      2511\n",
      "           1       1.00      1.00      1.00       888\n",
      "\n",
      "    accuracy                           1.00      3399\n",
      "   macro avg       1.00      1.00      1.00      3399\n",
      "weighted avg       1.00      1.00      1.00      3399\n",
      "\n",
      "\n",
      "\n",
      "confusion_matrix :\n"
     ]
    },
    {
     "data": {
      "text/plain": [
       "array([[2511,    0],\n",
       "       [   0,  888]], dtype=int64)"
      ]
     },
     "execution_count": 18,
     "metadata": {},
     "output_type": "execute_result"
    }
   ],
   "source": [
    "from sklearn.metrics import classification_report\n",
    "print('classification_report :')\n",
    "print(classification_report(y_test,predictions4))\n",
    "print('\\n')\n",
    "print('confusion_matrix :')\n",
    "from sklearn.metrics import confusion_matrix\n",
    "confusion_matrix(y_test,predictions4)"
   ]
  },
  {
   "cell_type": "markdown",
   "metadata": {},
   "source": [
    "## choose correct K-value"
   ]
  },
  {
   "cell_type": "code",
   "execution_count": 19,
   "metadata": {},
   "outputs": [],
   "source": [
    "error_rate=[]\n",
    "for i in range(1,80):\n",
    "    knn=KNeighborsClassifier(n_neighbors=i)\n",
    "    knn.fit(x_train,y_train)\n",
    "    pred_i= knn.predict(x_test)\n",
    "    error_rate.append(np.mean(pred_i != y_test))"
   ]
  },
  {
   "cell_type": "code",
   "execution_count": 20,
   "metadata": {},
   "outputs": [
    {
     "data": {
      "text/plain": [
       "Text(0, 0.5, 'Error Rate')"
      ]
     },
     "execution_count": 20,
     "metadata": {},
     "output_type": "execute_result"
    },
    {
     "data": {
      "image/png": "[encoded data removed]",
      "text/plain": [
       "<Figure size 936x648 with 1 Axes>"
      ]
     },
     "metadata": {
      "needs_background": "light"
     },
     "output_type": "display_data"
    }
   ],
   "source": [
    "plt.figure(figsize=(13,9))\n",
    "plt.plot(range(1,80), error_rate, color='blue', linestyle='dashed',marker='o',markerfacecolor='red',markersize='10')\n",
    "plt.title('Error Rate vs K-value')\n",
    "plt.xlabel('K-values')\n",
    "plt.ylabel('Error Rate')"
   ]
  },
  {
   "cell_type": "markdown",
   "metadata": {},
   "source": [
    "# According to calclations:::\n",
    "## Best Model in Hermonal  Claasification Predection is:\n",
    "# (( All ))"
   ]
  },
  {
   "cell_type": "code",
   "execution_count": 53,
   "metadata": {},
   "outputs": [
    {
     "data": {
      "text/html": [
       "        <script type=\"text/javascript\">\n",
       "        window.PlotlyConfig = {MathJaxConfig: 'local'};\n",
       "        if (window.MathJax) {MathJax.Hub.Config({SVG: {font: \"STIX-Web\"}});}\n",
       "        if (typeof require !== 'undefined') {\n",
       "        require.undef(\"plotly\");\n",
       "        requirejs.config({\n",
       "            paths: {\n",
       "                'plotly': ['https://cdn.plot.ly/plotly-latest.min']\n",
       "            }\n",
       "        });\n",
       "        require(['plotly'], function(Plotly) {\n",
       "            window._Plotly = Plotly;\n",
       "        });\n",
       "        }\n",
       "        </script>\n",
       "        "
      ]
     },
     "metadata": {},
     "output_type": "display_data"
    },
    {
     "data": {
      "text/html": [
       "        <script type=\"text/javascript\">\n",
       "        window.PlotlyConfig = {MathJaxConfig: 'local'};\n",
       "        if (window.MathJax) {MathJax.Hub.Config({SVG: {font: \"STIX-Web\"}});}\n",
       "        if (typeof require !== 'undefined') {\n",
       "        require.undef(\"plotly\");\n",
       "        requirejs.config({\n",
       "            paths: {\n",
       "                'plotly': ['https://cdn.plot.ly/plotly-latest.min']\n",
       "            }\n",
       "        });\n",
       "        require(['plotly'], function(Plotly) {\n",
       "            window._Plotly = Plotly;\n",
       "        });\n",
       "        }\n",
       "        </script>\n",
       "        "
      ]
     },
     "metadata": {},
     "output_type": "display_data"
    },
    {
     "data": {
      "text/html": [
       "<div>\n",
       "<style scoped>\n",
       "    .dataframe tbody tr th:only-of-type {\n",
       "        vertical-align: middle;\n",
       "    }\n",
       "\n",
       "    .dataframe tbody tr th {\n",
       "        vertical-align: top;\n",
       "    }\n",
       "\n",
       "    .dataframe thead th {\n",
       "        text-align: right;\n",
       "    }\n",
       "</style>\n",
       "<table border=\"1\" class=\"dataframe\">\n",
       "  <thead>\n",
       "    <tr style=\"text-align: right;\">\n",
       "      <th></th>\n",
       "      <th>ER+</th>\n",
       "      <th>PR+</th>\n",
       "      <th>MRI1</th>\n",
       "      <th>LD1</th>\n",
       "      <th>NO of node</th>\n",
       "      <th>node coded</th>\n",
       "      <th>tomur location</th>\n",
       "      <th>tumor stage</th>\n",
       "      <th>node</th>\n",
       "      <th>M</th>\n",
       "      <th>stage</th>\n",
       "      <th>hermonal</th>\n",
       "      <th>chemo</th>\n",
       "      <th>surgery</th>\n",
       "      <th>ln</th>\n",
       "      <th>censor</th>\n",
       "    </tr>\n",
       "  </thead>\n",
       "  <tbody>\n",
       "    <tr>\n",
       "      <th>0</th>\n",
       "      <td>0</td>\n",
       "      <td>1</td>\n",
       "      <td>yes</td>\n",
       "      <td>4.00</td>\n",
       "      <td>5</td>\n",
       "      <td>Positive</td>\n",
       "      <td>left_low</td>\n",
       "      <td>T2</td>\n",
       "      <td>N3</td>\n",
       "      <td>M0</td>\n",
       "      <td>Stage IIIC</td>\n",
       "      <td>0</td>\n",
       "      <td>1</td>\n",
       "      <td>0</td>\n",
       "      <td>0</td>\n",
       "      <td>0</td>\n",
       "    </tr>\n",
       "    <tr>\n",
       "      <th>1</th>\n",
       "      <td>1</td>\n",
       "      <td>1</td>\n",
       "      <td>yes</td>\n",
       "      <td>7.95</td>\n",
       "      <td>0</td>\n",
       "      <td>Negative</td>\n",
       "      <td>right_up</td>\n",
       "      <td>T3</td>\n",
       "      <td>N0</td>\n",
       "      <td>M0</td>\n",
       "      <td>Stage IIA</td>\n",
       "      <td>1</td>\n",
       "      <td>0</td>\n",
       "      <td>1</td>\n",
       "      <td>1</td>\n",
       "      <td>1</td>\n",
       "    </tr>\n",
       "    <tr>\n",
       "      <th>2</th>\n",
       "      <td>1</td>\n",
       "      <td>1</td>\n",
       "      <td>yes</td>\n",
       "      <td>1.10</td>\n",
       "      <td>1</td>\n",
       "      <td>Positive</td>\n",
       "      <td>left_low</td>\n",
       "      <td>T1</td>\n",
       "      <td>N1</td>\n",
       "      <td>M0</td>\n",
       "      <td>Stage IIIB</td>\n",
       "      <td>1</td>\n",
       "      <td>0</td>\n",
       "      <td>0</td>\n",
       "      <td>0</td>\n",
       "      <td>0</td>\n",
       "    </tr>\n",
       "    <tr>\n",
       "      <th>3</th>\n",
       "      <td>0</td>\n",
       "      <td>0</td>\n",
       "      <td>yes</td>\n",
       "      <td>6.23</td>\n",
       "      <td>0</td>\n",
       "      <td>Negative</td>\n",
       "      <td>left_up</td>\n",
       "      <td>T3</td>\n",
       "      <td>N0</td>\n",
       "      <td>M0</td>\n",
       "      <td>Stage IIB</td>\n",
       "      <td>0</td>\n",
       "      <td>1</td>\n",
       "      <td>0</td>\n",
       "      <td>0</td>\n",
       "      <td>0</td>\n",
       "    </tr>\n",
       "    <tr>\n",
       "      <th>4</th>\n",
       "      <td>1</td>\n",
       "      <td>1</td>\n",
       "      <td>yes</td>\n",
       "      <td>7.70</td>\n",
       "      <td>6</td>\n",
       "      <td>Positive</td>\n",
       "      <td>right_low</td>\n",
       "      <td>T3</td>\n",
       "      <td>N3</td>\n",
       "      <td>M0</td>\n",
       "      <td>Stage IIIC</td>\n",
       "      <td>1</td>\n",
       "      <td>0</td>\n",
       "      <td>0</td>\n",
       "      <td>0</td>\n",
       "      <td>0</td>\n",
       "    </tr>\n",
       "  </tbody>\n",
       "</table>\n",
       "</div>"
      ],
      "text/plain": [
       "   ER+  PR+ MRI1   LD1  NO of node node coded tomur location tumor stage  \\\n",
       "0    0    1  yes  4.00           5   Positive       left_low          T2   \n",
       "1    1    1  yes  7.95           0   Negative       right_up          T3   \n",
       "2    1    1  yes  1.10           1   Positive       left_low          T1   \n",
       "3    0    0  yes  6.23           0   Negative        left_up          T3   \n",
       "4    1    1  yes  7.70           6   Positive      right_low          T3   \n",
       "\n",
       "  node    M       stage  hermonal  chemo  surgery  ln  censor  \n",
       "0    N3  M0  Stage IIIC         0      1        0   0       0  \n",
       "1    N0  M0   Stage IIA         1      0        1   1       1  \n",
       "2    N1  M0  Stage IIIB         1      0        0   0       0  \n",
       "3    N0  M0   Stage IIB         0      1        0   0       0  \n",
       "4    N3  M0  Stage IIIC         1      0        0   0       0  "
      ]
     },
     "execution_count": 53,
     "metadata": {},
     "output_type": "execute_result"
    }
   ],
   "source": [
    "import pandas as pd\n",
    "import numpy as np\n",
    "import matplotlib.pyplot as plt\n",
    "%matplotlib inline\n",
    "import seaborn as sns\n",
    "from plotly import __version__\n",
    "import cufflinks as cf\n",
    "from plotly.offline import download_plotlyjs, init_notebook_mode, plot, iplot\n",
    "init_notebook_mode(connected=True)\n",
    "cf.go_offline()\n",
    "import plotly.graph_objs as go\n",
    "\n",
    "df= pd.read_csv('col.csv')\n",
    "df.head()"
   ]
  },
  {
   "cell_type": "code",
   "execution_count": null,
   "metadata": {},
   "outputs": [],
   "source": []
  },
  {
   "cell_type": "code",
   "execution_count": null,
   "metadata": {},
   "outputs": [],
   "source": []
  },
  {
   "cell_type": "code",
   "execution_count": null,
   "metadata": {},
   "outputs": [],
   "source": []
  }
 ],
 "metadata": {
  "kernelspec": {
   "display_name": "Python 3",
   "language": "python",
   "name": "python3"
  },
  "language_info": {
   "codemirror_mode": {
    "name": "ipython",
    "version": 3
   },
   "file_extension": ".py",
   "mimetype": "text/x-python",
   "name": "python",
   "nbconvert_exporter": "python",
   "pygments_lexer": "ipython3",
   "version": "3.7.3"
  }
 },
 "nbformat": 4,
 "nbformat_minor": 2
}
